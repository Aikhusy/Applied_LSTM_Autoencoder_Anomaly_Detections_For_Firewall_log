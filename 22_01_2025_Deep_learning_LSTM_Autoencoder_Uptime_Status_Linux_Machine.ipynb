{
  "nbformat": 4,
  "nbformat_minor": 0,
  "metadata": {
    "colab": {
      "provenance": [],
      "authorship_tag": "ABX9TyOfZOcWj7AAW8sE2cB6rAy0",
      "include_colab_link": true
    },
    "kernelspec": {
      "name": "python3",
      "display_name": "Python 3"
    },
    "language_info": {
      "name": "python"
    }
  },
  "cells": [
    {
      "cell_type": "markdown",
      "metadata": {
        "id": "view-in-github",
        "colab_type": "text"
      },
      "source": [
        "<a href=\"https://colab.research.google.com/github/Aikhusy/Applied_LSTM_Autoencoder_Anomaly_Detections_For_Firewall_log/blob/main/22_01_2025_Deep_learning_LSTM_Autoencoder_Uptime_Status_Linux_Machine.ipynb\" target=\"_parent\"><img src=\"https://colab.research.google.com/assets/colab-badge.svg\" alt=\"Open In Colab\"/></a>"
      ]
    },
    {
      "cell_type": "code",
      "execution_count": 1,
      "metadata": {
        "id": "jx5hQdzc087n"
      },
      "outputs": [],
      "source": [
        "import pandas as pd\n",
        "import numpy as np\n",
        "from sklearn.preprocessing import MinMaxScaler\n",
        "from tensorflow.keras.models import Sequential, Model\n",
        "from tensorflow.keras.layers import Input, LSTM, RepeatVector, TimeDistributed, Dense\n",
        "from tensorflow.keras.callbacks import EarlyStopping\n",
        "import matplotlib.pyplot as plt"
      ]
    },
    {
      "cell_type": "code",
      "source": [
        "def load_and_preprocess_data(csv_path):\n",
        "    df = pd.read_csv(csv_path)\n",
        "\n",
        "    features = ['fw_days_uptime', 'fw_number_of_users',\n",
        "               'fw_load_avg_1_min', 'fw_load_avg_5_min', 'fw_load_avg_15_min']\n",
        "\n",
        "    df['created_at'] = pd.to_datetime(df['created_at'])\n",
        "    df = df.sort_values('created_at')\n",
        "\n",
        "    scaler = MinMaxScaler()\n",
        "    scaled_data = scaler.fit_transform(df[features])\n",
        "\n",
        "    return scaled_data, scaler, features"
      ],
      "metadata": {
        "id": "me-1YTHt5p9e"
      },
      "execution_count": 2,
      "outputs": []
    },
    {
      "cell_type": "code",
      "source": [],
      "metadata": {
        "id": "b0S3c4EQ57EE"
      },
      "execution_count": null,
      "outputs": []
    }
  ]
}